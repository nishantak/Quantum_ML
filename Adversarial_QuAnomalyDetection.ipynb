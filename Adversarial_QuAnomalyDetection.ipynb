{
 "cells": [
  {
   "cell_type": "markdown",
   "id": "385a514f",
   "metadata": {},
   "source": [
    "# Adversarial Attack Detection by Unsupervised Quantum Anomaly Detection"
   ]
  },
  {
   "cell_type": "markdown",
   "id": "7eebbf67",
   "metadata": {},
   "source": [
    "usign Quantum Circuit as Feature Map\n",
    "\n",
    "and\n",
    "\n",
    "Quantum Measurement Distribution as Data Representation Metric"
   ]
  },
  {
   "cell_type": "code",
   "execution_count": 5,
   "id": "b13de3eb",
   "metadata": {},
   "outputs": [],
   "source": [
    "from qiskit import QuantumCircuit, QuantumRegister, ClassicalRegister, transpile\n",
    "from qiskit_aer import AerSimulator\n",
    "import torchvision\n",
    "import torchvision.transforms as transforms\n",
    "import numpy as np\n",
    "import matplotlib.pyplot as plt"
   ]
  },
  {
   "cell_type": "markdown",
   "id": "f8d406a1",
   "metadata": {},
   "source": [
    "Quantum Anomaly Detector\n",
    "\n",
    "Trains on normal data then \"like an autoencoder\", instead of reconstruction error, it uses:\n",
    "- Measurement distribution of a quantum circuit as a metric\n",
    "\n",
    "- Compares test distributions to a \"normal\" baseline using KL \n",
    "\n",
    "why KL?\n",
    "- assymetric\n",
    "\n",
    "- log -> very sensitive = good for anomaly tasks\n",
    "\n",
    "<br>\n",
    "\n",
    "| Metric             | Pros                                 | Cons                              | KL Advantage                                 |\n",
    "| ------------------ | ------------------------------------ | --------------------------------- | -------------------------------------------- |\n",
    "| **KL Divergence**  | Sensitive to rare events, asymmetric | Can be infinite (needs smoothing) | Highlights surprising outputs from test data |\n",
    "| **L2 Distance**    | Simple                               | Ignores relative scale            | Not sensitive to important deviations        |\n",
    "| **TVD**            | Bounded, interpretable               | Less sensitive                    | Doesn’t emphasize rare outcomes              |\n",
    "| **Jensen-Shannon** | Symmetric, bounded                   | Blurs small anomalies             | KL is sharper                                |\n",
    "| **Wasserstein**    | Rich structure info  -> better for interpretable data                 | Computationally hard              | Not needed for flat bitstring stats          |\n"
   ]
  },
  {
   "cell_type": "code",
   "execution_count": 6,
   "id": "28b0e81c",
   "metadata": {},
   "outputs": [],
   "source": [
    "class QuantumAnomalyDetector:\n",
    "    def __init__(self, num_qubits=10, shots=1024):\n",
    "        self.num_qubits = num_qubits\n",
    "        self.shots = shots\n",
    "        self.simulator = AerSimulator()\n",
    "        self.baseline_distribution = None  # How normal is supposed to look, we train on nomral so it learns and we dont need to hardcode.\n",
    "        \n",
    "    \n",
    "    # Classical data ---> Quantum State Vector : 2^num_qubits\n",
    "    def encode_data(self, data):\n",
    "        data = data.flatten()   # MNIST: 28 X 28 -> 724\n",
    "        \n",
    "        target_size = 2**self.num_qubits  # number of amplitudes, 3 bits can represent 2^3 = 8 amplitudes = len(Quantum State Vector)\n",
    "\n",
    "        # Feature selection\n",
    "        \n",
    "        # We can only encode N = 2^n values: like input layer of NN; either downsample or extract features and feed to num_qubits qubits (hybrid)\n",
    "        # ∣\\psi⟩ = a_0​ ∣000...0⟩ + a_1 ​∣000...1⟩ +...+ a_{N-1} ​∣11...11⟩\n",
    "        if len(data) > target_size:\n",
    "            step = len(data) // target_size     # Downsample by taking N elements across the image\n",
    "            data = data[::step][:target_size]\n",
    "        if len(data) < target_size: data = np.pad(data, (0, target_size-len(data)), mode='constant')\n",
    "        data = data[:target_size]\n",
    "        \n",
    "        \n",
    "        # Encoding: Amplitude Encoding\n",
    "\n",
    "        # Normalisation || \\sum{|a_i|^2} = 1 because <\\psi | \\psi> = 1 : Born Rule\n",
    "        norm = np.linalg.norm(data) # L2 Norm / Euclidean Norm: ||x|| = \\sqrt{\\sum{x_i^2}}\n",
    "        if norm > 1e-10:  # if no 0 division\n",
    "\n",
    "            data = data / norm  # unit vector now: x -> x / ||X||  => ||x|| = 1\n",
    "            \n",
    "            # Double Check because Qiskit is rude and double perc floating point is the bane of society\n",
    "            actual_norm = np.linalg.norm(data)\n",
    "            if not np.isclose(actual_norm, 1.0, atol=1e-10): data = data / actual_norm\n",
    "\n",
    "        # if 0 division\n",
    "        else: data = np.ones(target_size) / np.sqrt(target_size)  # -> Equal amplitudes\n",
    "        \n",
    "\n",
    "        # Final check and correction for floating point errors\n",
    "        final_norm = np.sum(np.abs(data)**2) # norm^2 \n",
    "        if not np.isclose(final_norm, 1.0, atol=1e-12): data = data / np.sqrt(final_norm)\n",
    "        return data\n",
    "    \n",
    "\n",
    "    # Detection Circuit\n",
    "    def quantum_circuit(self, encoded_data, prints=False, anomaly=False):\n",
    "        qreg = QuantumRegister(self.num_qubits, 'q') # inputs\n",
    "        creg = ClassicalRegister(self.num_qubits, 'c') # outputs\n",
    "        circuit = QuantumCircuit(qreg, creg)\n",
    "        \n",
    "        # Initialize quantum state with encoded data : ∣\\psi⟩ = \\sum_{i=0}^{2^N-1}{ x_{i} ​∣\\psi_i⟩ }\n",
    "        circuit.initialize(encoded_data, qreg, normalize=True)\n",
    "        \n",
    "        # Quantum feature map (VQC not PQC, circuit param not trained - distribution is trained) : gives \"effect\" of the data to meaasure and comapre\n",
    "\n",
    "        # Rotation : R_y(\\theta)(x)\n",
    "        for i in range(self.num_qubits):\n",
    "            circuit.ry(np.pi/4, qreg[i])\n",
    "            if anomaly: circuit.rx(np.random.uniform(np.pi/8, np.pi), qreg[i]) # Simulate adversarial data\n",
    "        # Entanglment\n",
    "        for i in range(self.num_qubits - 1):\n",
    "            circuit.cx(qreg[i], qreg[i+1])\n",
    "            \n",
    "        # Simulate noise for generalisation\n",
    "        for i in range(self.num_qubits):\n",
    "            if np.random.random() < 0.1:  # ~10% noise probability | Realistic hardware noise\n",
    "                circuit.rx(np.random.uniform(0, np.pi/8), qreg[i])\n",
    "\n",
    "        if prints: circuit.draw(\"latex\")\n",
    "\n",
    "        # Measure in computational basis\n",
    "        circuit.measure(qreg, creg)\n",
    "        return circuit\n",
    "    \n",
    "\n",
    "    # Training: Learns what is normal -> Establish baseline\n",
    "    # How? : learnign how the distribution of measurements of the above circuit looks for normal data\n",
    "    def train_baseline(self, normal_data):\n",
    "        distributions = []\n",
    "        \n",
    "        for sample in normal_data:\n",
    "            encoded = self.encode_data(sample.flatten())\n",
    "            circuit = self.quantum_circuit(encoded)\n",
    "            \n",
    "            # Pass through circuit\n",
    "            compiled_circuit = transpile(circuit, self.simulator) # Qiskit real backends: transpile optimises the circuit optimised for the simulator backend.\n",
    "            job = self.simulator.run(compiled_circuit, shots=self.shots) # experiment\n",
    "            counts = job.result().get_counts(compiled_circuit) # Count of each \\psi_i basis state: {'00..00': 200, '00..01': 180, ..., '11..11': 140}\n",
    "\n",
    "            \n",
    "            # Get probability distribution\n",
    "            prob_dist = np.zeros(2**self.num_qubits)\n",
    "            for state, count in counts.items():\n",
    "                prob_dist[int(state, 2)] = count/self.shots\n",
    "            distributions.append(prob_dist)\n",
    "\n",
    "        self.baseline_distribution = np.mean(distributions, axis=0) # distribution mean, can also store additional measures of tendency such as median, sd etc.\n",
    "        \n",
    "\n",
    "    # How far from baseline?\n",
    "    def detect_anomaly(self, test_data, anomaly=False):\n",
    "        encoded = self.encode_data(test_data.flatten())\n",
    "\n",
    "        if anomaly: circuit = self.quantum_circuit(encoded, anomaly=True)\n",
    "        else: circuit = self.quantum_circuit(encoded)\n",
    "        \n",
    "        # Execute circuit for input data\n",
    "        compiled_circuit = transpile(circuit, self.simulator)\n",
    "        job = self.simulator.run(compiled_circuit, shots=self.shots)\n",
    "        counts = job.result().get_counts(compiled_circuit)\n",
    "        \n",
    "        # Get probability distribution\n",
    "        prob_dist = np.zeros(2**self.num_qubits)\n",
    "        for state, count in counts.items():\n",
    "            prob_dist[int(state, 2)] = count/self.shots\n",
    "        \n",
    "        # Calculate KL divergence from baseline\n",
    "        if self.baseline_distribution is not None:\n",
    "            epsilon = 1e-10     # avoid log(0)\n",
    "            \n",
    "            baseline_smooth = self.baseline_distribution + epsilon\n",
    "            prob_dist_smooth = prob_dist + epsilon\n",
    "            \n",
    "            # D_{KL}(P||Q) = \\sum_{i}{ P_i * log(P_i / Q_i) } \n",
    "            kl_div = np.sum(prob_dist_smooth * np.log(prob_dist_smooth / baseline_smooth))\n",
    "            return kl_div\n"
   ]
  },
  {
   "cell_type": "code",
   "execution_count": 7,
   "id": "8a62b1bf",
   "metadata": {},
   "outputs": [],
   "source": [
    "def load_mnist_data():\n",
    "    \"\"\"Load MNIST dataset\"\"\"\n",
    "    transform = transforms.Compose([\n",
    "        transforms.ToTensor(), \n",
    "        transforms.Normalize((0.1307,), (0.3081,)) # standard mean and sd of MNIST data\n",
    "    ])\n",
    "    \n",
    "    dataset = torchvision.datasets.MNIST(\n",
    "        root='adversary_dataset', train=True, download=True, transform=transform # image to tensor\n",
    "    )\n",
    "    \n",
    "    return dataset\n",
    "\n",
    "\n",
    "def prepare_dataset(dataset, normal_ratio=0.7):\n",
    "    import random\n",
    "    indices = list(range(len(dataset)))\n",
    "    random.shuffle(indices)\n",
    "\n",
    "    split_point = int(len(indices) * normal_ratio)\n",
    "    normal_indices = indices[:split_point]\n",
    "    anomaly_indices = indices[split_point:]\n",
    "\n",
    "    normal_data = []\n",
    "    normal_labels = []\n",
    "    anomalous_data = []\n",
    "    anomalous_labels = []\n",
    "\n",
    "    for idx in normal_indices:\n",
    "        image, label = dataset[idx]\n",
    "        normal_data.append(image.numpy())\n",
    "        normal_labels.append(label)\n",
    "\n",
    "    for idx in anomaly_indices:\n",
    "        image, label = dataset[idx]\n",
    "        anomalous_data.append(image.numpy())\n",
    "        anomalous_labels.append(label)\n",
    "\n",
    "    return normal_data, normal_labels, anomalous_data, anomalous_labels\n",
    "\n",
    "dataset = load_mnist_data()\n",
    "normal_data, normal_labels, anomalous_data, anomalous_labels = prepare_dataset(dataset)"
   ]
  },
  {
   "cell_type": "markdown",
   "id": "e41e0324",
   "metadata": {},
   "source": [
    "Training"
   ]
  },
  {
   "cell_type": "code",
   "execution_count": 8,
   "id": "05270707",
   "metadata": {},
   "outputs": [
    {
     "name": "stdout",
     "output_type": "stream",
     "text": [
      "\n",
      "--- Training on 42000 NORMAL samples (not really) ---\n",
      "\n"
     ]
    },
    {
     "data": {
      "image/png": "[encoded data removed]",
      "text/plain": [
       "<Figure size 1500x300 with 5 Axes>"
      ]
     },
     "metadata": {},
     "output_type": "display_data"
    },
    {
     "name": "stdout",
     "output_type": "stream",
     "text": [
      "\n",
      "Testing quantum anomaly detection...\n",
      "\n",
      "\n",
      "--- Set Baseline Divergence ---\n",
      "\n",
      "Normal scores: mean=0.9659, std=0.0830\n"
     ]
    }
   ],
   "source": [
    "detector = QuantumAnomalyDetector(num_qubits=10)\n",
    "\n",
    "# Show some samples\n",
    "print(f\"\\n--- Training on {len(normal_data)} NORMAL samples (not really) ---\\n\")\n",
    "fig, axes = plt.subplots(1, 5, figsize=(15, 3))\n",
    "for i in range(min(5, len(normal_data))):\n",
    "    axes[i].imshow(normal_data[i].squeeze(), cmap='gray')\n",
    "    axes[i].set_title(f'Normal: {normal_labels[i]}')\n",
    "    axes[i].axis('off')\n",
    "plt.tight_layout()\n",
    "plt.show()\n",
    "    \n",
    "detector.train_baseline(normal_data[:512]) # cant\n",
    "\n",
    "print(\"\\nTesting quantum anomaly detection...\\n\")\n",
    "\n",
    "print(\"\\n--- Set Baseline Divergence ---\")\n",
    "normal_scores = []\n",
    "for i, sample in enumerate(normal_data[:512]): #cant\n",
    "    score = detector.detect_anomaly(sample) \n",
    "    normal_scores.append(score)\n",
    "\n",
    "print(f\"\\nNormal scores: mean={np.mean(normal_scores):.4f}, std={np.std(normal_scores):.4f}\")"
   ]
  },
  {
   "cell_type": "markdown",
   "id": "c4114d66",
   "metadata": {},
   "source": [
    "Testing"
   ]
  },
  {
   "cell_type": "code",
   "execution_count": 9,
   "id": "ec191a07",
   "metadata": {},
   "outputs": [
    {
     "name": "stdout",
     "output_type": "stream",
     "text": [
      "\n",
      "Testing quantum anomaly detection...\n",
      "\n",
      "\n",
      "--- Testing on 18000 ANOMALOUS samples (not really) ---\n",
      "\n",
      "Anomaly scores: mean=1.5717, std=0.2646\n"
     ]
    }
   ],
   "source": [
    "# Test on anomalous samples\n",
    "print(\"\\nTesting quantum anomaly detection...\\n\")\n",
    "print(f\"\\n--- Testing on {len(anomalous_data)} ANOMALOUS samples (not really) ---\\n\")\n",
    "anomaly_scores = []\n",
    "for i, sample in enumerate(anomalous_data[:256]): # cant\n",
    "    score = detector.detect_anomaly(sample, anomaly=True)\n",
    "    anomaly_scores.append(score)\n",
    "\n",
    "print(f\"Anomaly scores: mean={np.mean(anomaly_scores):.4f}, std={np.std(anomaly_scores):.4f}\")"
   ]
  },
  {
   "cell_type": "markdown",
   "id": "92adce97",
   "metadata": {},
   "source": [
    "Thresholding\n",
    "\n",
    "The choice of the threshold value depends on the specific problem and the desired trade-off between detecting anomalies and avoiding false positives. A higher threshold value will result in fewer data points being classified as anomalies, while a lower threshold value will be more sensitive to anomalies but may also produce more false positives."
   ]
  },
  {
   "cell_type": "code",
   "execution_count": 10,
   "id": "5336882c",
   "metadata": {},
   "outputs": [
    {
     "name": "stdout",
     "output_type": "stream",
     "text": [
      "\n",
      "Threshold: 1.0904\n",
      "Detection accuracy: 94.40%\n",
      "Normal samples correctly classified: 472/512\n",
      "Anomalous samples correctly classified: 253/256\n"
     ]
    }
   ],
   "source": [
    "threshold = np.mean(normal_scores) + 1.5*np.std(normal_scores) # VIT Metrics\n",
    "print(f\"\\nThreshold: {threshold:.4f}\")\n",
    "\n",
    "normal_correct = sum(1 for score in normal_scores if score<threshold)\n",
    "anomaly_correct = sum(1 for score in anomaly_scores if score>=threshold)\n",
    "\n",
    "total_samples = len(normal_scores) + len(anomaly_scores)\n",
    "\n",
    "accuracy = (normal_correct + anomaly_correct) / total_samples\n",
    "\n",
    "print(f\"Detection accuracy: {accuracy:.2%}\")\n",
    "\n",
    "print(f\"Normal samples correctly classified: {normal_correct}/{len(normal_scores)}\")\n",
    "print(f\"Anomalous samples correctly classified: {anomaly_correct}/{len(anomaly_scores)}\")"
   ]
  },
  {
   "cell_type": "markdown",
   "id": "9a46131b",
   "metadata": {},
   "source": [
    "Good Enough ?"
   ]
  },
  {
   "cell_type": "markdown",
   "id": "51ca7f2d",
   "metadata": {},
   "source": [
    "Pretty Images"
   ]
  },
  {
   "cell_type": "code",
   "execution_count": null,
   "id": "910f65ad",
   "metadata": {},
   "outputs": [
    {
     "name": "stdout",
     "output_type": "stream",
     "text": [
      "\n",
      "--- Test normal samples ---\n",
      "Normal sample 1 (digit 2) anomaly score: 0.9366\n",
      "Normal sample 2 (digit 1) anomaly score: 0.8590\n",
      "Normal sample 3 (digit 8) anomaly score: 0.8365\n",
      "Normal sample 4 (digit 4) anomaly score: 0.9879\n",
      "Normal sample 5 (digit 2) anomaly score: 1.1173\n"
     ]
    },
    {
     "data": {
      "image/png": "[encoded data removed]",
      "text/plain": [
       "<Figure size 1500x300 with 5 Axes>"
      ]
     },
     "metadata": {},
     "output_type": "display_data"
    },
    {
     "name": "stdout",
     "output_type": "stream",
     "text": [
      "\n",
      "--- Test ANOMALOUS samples ---\n",
      "\n",
      "Anomalous sample 1 (digit 7) anomaly score: 1.5464\n",
      "Anomalous sample 2 (digit 5) anomaly score: 1.4556\n",
      "Anomalous sample 3 (digit 3) anomaly score: 1.8283\n",
      "Anomalous sample 4 (digit 6) anomaly score: 1.4193\n",
      "Anomalous sample 5 (digit 8) anomaly score: 1.2919\n"
     ]
    },
    {
     "data": {
      "image/png": "[encoded data removed]",
      "text/plain": [
       "<Figure size 1500x300 with 5 Axes>"
      ]
     },
     "metadata": {},
     "output_type": "display_data"
    }
   ],
   "source": [
    "# Show testing on few  samples\n",
    "\n",
    "print(\"\\n--- Test normal samples ---\")\n",
    "fig, axes = plt.subplots(1, 5, figsize=(15, 3))\n",
    "for i, sample in enumerate(normal_data[:5]):\n",
    "    score = detector.detect_anomaly(sample) \n",
    "    print(f\"Normal sample {i+1} (digit {normal_labels[i]}) anomaly score: {score:.4f}\")\n",
    "    axes[i].imshow(sample.squeeze(), cmap='gray')\n",
    "    axes[i].set_title(f'Normal: {normal_labels[i]}, Score: {score:.4f}')\n",
    "    axes[i].axis('off')\n",
    "plt.tight_layout()\n",
    "plt.show()\n",
    "\n",
    "\n",
    "print(f\"\\n--- Test ANOMALOUS samples ---\\n\")\n",
    "fig, axes = plt.subplots(1, 5, figsize=(15, 3))\n",
    "for i, sample in enumerate(anomalous_data[:5]):\n",
    "    score = detector.detect_anomaly(sample, anomaly=True)\n",
    "    print(f\"Anomalous sample {i+1} (digit {anomalous_labels[i]}) anomaly score: {score:.4f}\")\n",
    "    axes[i].imshow(sample.squeeze(), cmap='gray')\n",
    "    axes[i].set_title(f'Anomaly: {anomalous_labels[i]}\\nScore: {score:.4f}')\n",
    "    axes[i].axis('off')\n",
    "plt.tight_layout()\n",
    "plt.show()"
   ]
  }
 ],
 "metadata": {
  "kernelspec": {
   "display_name": "Python 3",
   "language": "python",
   "name": "python3"
  },
  "language_info": {
   "codemirror_mode": {
    "name": "ipython",
    "version": 3
   },
   "file_extension": ".py",
   "mimetype": "text/x-python",
   "name": "python",
   "nbconvert_exporter": "python",
   "pygments_lexer": "ipython3",
   "version": "3.12.3"
  }
 },
 "nbformat": 4,
 "nbformat_minor": 5
}
