{
 "cells": [
  {
   "cell_type": "markdown",
   "id": "ebd1ebee",
   "metadata": {},
   "source": [
    "Quantum Anamoly Detection using Auto Encoder"
   ]
  }
 ],
 "metadata": {
  "language_info": {
   "name": "python"
  }
 },
 "nbformat": 4,
 "nbformat_minor": 5
}
